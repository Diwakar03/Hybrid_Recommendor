{
 "cells": [
  {
   "cell_type": "code",
   "execution_count": 1,
   "id": "98f20314",
   "metadata": {},
   "outputs": [],
   "source": [
    "import pandas as pd\n",
    "import numpy as np\n",
    "import seaborn as sns\n",
    "import matplotlib as plt"
   ]
  },
  {
   "cell_type": "code",
   "execution_count": 2,
   "id": "369b26d3",
   "metadata": {},
   "outputs": [],
   "source": [
    "df1 = pd.read_csv(\"animes.csv\")"
   ]
  },
  {
   "cell_type": "code",
   "execution_count": 3,
   "id": "963a7be8",
   "metadata": {},
   "outputs": [
    {
     "data": {
      "text/html": [
       "<div>\n",
       "<style scoped>\n",
       "    .dataframe tbody tr th:only-of-type {\n",
       "        vertical-align: middle;\n",
       "    }\n",
       "\n",
       "    .dataframe tbody tr th {\n",
       "        vertical-align: top;\n",
       "    }\n",
       "\n",
       "    .dataframe thead th {\n",
       "        text-align: right;\n",
       "    }\n",
       "</style>\n",
       "<table border=\"1\" class=\"dataframe\">\n",
       "  <thead>\n",
       "    <tr style=\"text-align: right;\">\n",
       "      <th></th>\n",
       "      <th>uid</th>\n",
       "      <th>title</th>\n",
       "      <th>synopsis</th>\n",
       "      <th>genre</th>\n",
       "      <th>aired</th>\n",
       "      <th>episodes</th>\n",
       "      <th>members</th>\n",
       "      <th>popularity</th>\n",
       "      <th>ranked</th>\n",
       "      <th>score</th>\n",
       "      <th>img_url</th>\n",
       "      <th>link</th>\n",
       "    </tr>\n",
       "  </thead>\n",
       "  <tbody>\n",
       "    <tr>\n",
       "      <th>0</th>\n",
       "      <td>28891</td>\n",
       "      <td>Haikyuu!! Second Season</td>\n",
       "      <td>Following their participation at the Inter-Hig...</td>\n",
       "      <td>['Comedy', 'Sports', 'Drama', 'School', 'Shoun...</td>\n",
       "      <td>Oct 4, 2015 to Mar 27, 2016</td>\n",
       "      <td>25.0</td>\n",
       "      <td>489888</td>\n",
       "      <td>141</td>\n",
       "      <td>25.0</td>\n",
       "      <td>8.82</td>\n",
       "      <td>https://cdn.myanimelist.net/images/anime/9/766...</td>\n",
       "      <td>https://myanimelist.net/anime/28891/Haikyuu_Se...</td>\n",
       "    </tr>\n",
       "    <tr>\n",
       "      <th>1</th>\n",
       "      <td>23273</td>\n",
       "      <td>Shigatsu wa Kimi no Uso</td>\n",
       "      <td>Music accompanies the path of the human metron...</td>\n",
       "      <td>['Drama', 'Music', 'Romance', 'School', 'Shoun...</td>\n",
       "      <td>Oct 10, 2014 to Mar 20, 2015</td>\n",
       "      <td>22.0</td>\n",
       "      <td>995473</td>\n",
       "      <td>28</td>\n",
       "      <td>24.0</td>\n",
       "      <td>8.83</td>\n",
       "      <td>https://cdn.myanimelist.net/images/anime/3/671...</td>\n",
       "      <td>https://myanimelist.net/anime/23273/Shigatsu_w...</td>\n",
       "    </tr>\n",
       "    <tr>\n",
       "      <th>2</th>\n",
       "      <td>34599</td>\n",
       "      <td>Made in Abyss</td>\n",
       "      <td>The Abyss—a gaping chasm stretching down into ...</td>\n",
       "      <td>['Sci-Fi', 'Adventure', 'Mystery', 'Drama', 'F...</td>\n",
       "      <td>Jul 7, 2017 to Sep 29, 2017</td>\n",
       "      <td>13.0</td>\n",
       "      <td>581663</td>\n",
       "      <td>98</td>\n",
       "      <td>23.0</td>\n",
       "      <td>8.83</td>\n",
       "      <td>https://cdn.myanimelist.net/images/anime/6/867...</td>\n",
       "      <td>https://myanimelist.net/anime/34599/Made_in_Abyss</td>\n",
       "    </tr>\n",
       "    <tr>\n",
       "      <th>3</th>\n",
       "      <td>5114</td>\n",
       "      <td>Fullmetal Alchemist: Brotherhood</td>\n",
       "      <td>\"In order for something to be obtained, someth...</td>\n",
       "      <td>['Action', 'Military', 'Adventure', 'Comedy', ...</td>\n",
       "      <td>Apr 5, 2009 to Jul 4, 2010</td>\n",
       "      <td>64.0</td>\n",
       "      <td>1615084</td>\n",
       "      <td>4</td>\n",
       "      <td>1.0</td>\n",
       "      <td>9.23</td>\n",
       "      <td>https://cdn.myanimelist.net/images/anime/1223/...</td>\n",
       "      <td>https://myanimelist.net/anime/5114/Fullmetal_A...</td>\n",
       "    </tr>\n",
       "    <tr>\n",
       "      <th>4</th>\n",
       "      <td>31758</td>\n",
       "      <td>Kizumonogatari III: Reiketsu-hen</td>\n",
       "      <td>After helping revive the legendary vampire Kis...</td>\n",
       "      <td>['Action', 'Mystery', 'Supernatural', 'Vampire']</td>\n",
       "      <td>Jan 6, 2017</td>\n",
       "      <td>1.0</td>\n",
       "      <td>214621</td>\n",
       "      <td>502</td>\n",
       "      <td>22.0</td>\n",
       "      <td>8.83</td>\n",
       "      <td>https://cdn.myanimelist.net/images/anime/3/815...</td>\n",
       "      <td>https://myanimelist.net/anime/31758/Kizumonoga...</td>\n",
       "    </tr>\n",
       "  </tbody>\n",
       "</table>\n",
       "</div>"
      ],
      "text/plain": [
       "     uid                             title  \\\n",
       "0  28891           Haikyuu!! Second Season   \n",
       "1  23273           Shigatsu wa Kimi no Uso   \n",
       "2  34599                     Made in Abyss   \n",
       "3   5114  Fullmetal Alchemist: Brotherhood   \n",
       "4  31758  Kizumonogatari III: Reiketsu-hen   \n",
       "\n",
       "                                            synopsis  \\\n",
       "0  Following their participation at the Inter-Hig...   \n",
       "1  Music accompanies the path of the human metron...   \n",
       "2  The Abyss—a gaping chasm stretching down into ...   \n",
       "3  \"In order for something to be obtained, someth...   \n",
       "4  After helping revive the legendary vampire Kis...   \n",
       "\n",
       "                                               genre  \\\n",
       "0  ['Comedy', 'Sports', 'Drama', 'School', 'Shoun...   \n",
       "1  ['Drama', 'Music', 'Romance', 'School', 'Shoun...   \n",
       "2  ['Sci-Fi', 'Adventure', 'Mystery', 'Drama', 'F...   \n",
       "3  ['Action', 'Military', 'Adventure', 'Comedy', ...   \n",
       "4   ['Action', 'Mystery', 'Supernatural', 'Vampire']   \n",
       "\n",
       "                          aired  episodes  members  popularity  ranked  score  \\\n",
       "0   Oct 4, 2015 to Mar 27, 2016      25.0   489888         141    25.0   8.82   \n",
       "1  Oct 10, 2014 to Mar 20, 2015      22.0   995473          28    24.0   8.83   \n",
       "2   Jul 7, 2017 to Sep 29, 2017      13.0   581663          98    23.0   8.83   \n",
       "3    Apr 5, 2009 to Jul 4, 2010      64.0  1615084           4     1.0   9.23   \n",
       "4                   Jan 6, 2017       1.0   214621         502    22.0   8.83   \n",
       "\n",
       "                                             img_url  \\\n",
       "0  https://cdn.myanimelist.net/images/anime/9/766...   \n",
       "1  https://cdn.myanimelist.net/images/anime/3/671...   \n",
       "2  https://cdn.myanimelist.net/images/anime/6/867...   \n",
       "3  https://cdn.myanimelist.net/images/anime/1223/...   \n",
       "4  https://cdn.myanimelist.net/images/anime/3/815...   \n",
       "\n",
       "                                                link  \n",
       "0  https://myanimelist.net/anime/28891/Haikyuu_Se...  \n",
       "1  https://myanimelist.net/anime/23273/Shigatsu_w...  \n",
       "2  https://myanimelist.net/anime/34599/Made_in_Abyss  \n",
       "3  https://myanimelist.net/anime/5114/Fullmetal_A...  \n",
       "4  https://myanimelist.net/anime/31758/Kizumonoga...  "
      ]
     },
     "execution_count": 3,
     "metadata": {},
     "output_type": "execute_result"
    }
   ],
   "source": [
    "df1.head()"
   ]
  },
  {
   "cell_type": "code",
   "execution_count": 4,
   "id": "abc51af4",
   "metadata": {},
   "outputs": [],
   "source": [
    "selected_columns = ['title', 'synopsis']  # Replace with your desired column names\n",
    "df1 = df1[selected_columns]"
   ]
  },
  {
   "cell_type": "code",
   "execution_count": 5,
   "id": "5971cf11",
   "metadata": {},
   "outputs": [
    {
     "data": {
      "text/html": [
       "<div>\n",
       "<style scoped>\n",
       "    .dataframe tbody tr th:only-of-type {\n",
       "        vertical-align: middle;\n",
       "    }\n",
       "\n",
       "    .dataframe tbody tr th {\n",
       "        vertical-align: top;\n",
       "    }\n",
       "\n",
       "    .dataframe thead th {\n",
       "        text-align: right;\n",
       "    }\n",
       "</style>\n",
       "<table border=\"1\" class=\"dataframe\">\n",
       "  <thead>\n",
       "    <tr style=\"text-align: right;\">\n",
       "      <th></th>\n",
       "      <th>title</th>\n",
       "      <th>synopsis</th>\n",
       "    </tr>\n",
       "  </thead>\n",
       "  <tbody>\n",
       "    <tr>\n",
       "      <th>0</th>\n",
       "      <td>Haikyuu!! Second Season</td>\n",
       "      <td>Following their participation at the Inter-Hig...</td>\n",
       "    </tr>\n",
       "    <tr>\n",
       "      <th>1</th>\n",
       "      <td>Shigatsu wa Kimi no Uso</td>\n",
       "      <td>Music accompanies the path of the human metron...</td>\n",
       "    </tr>\n",
       "    <tr>\n",
       "      <th>2</th>\n",
       "      <td>Made in Abyss</td>\n",
       "      <td>The Abyss—a gaping chasm stretching down into ...</td>\n",
       "    </tr>\n",
       "    <tr>\n",
       "      <th>3</th>\n",
       "      <td>Fullmetal Alchemist: Brotherhood</td>\n",
       "      <td>\"In order for something to be obtained, someth...</td>\n",
       "    </tr>\n",
       "    <tr>\n",
       "      <th>4</th>\n",
       "      <td>Kizumonogatari III: Reiketsu-hen</td>\n",
       "      <td>After helping revive the legendary vampire Kis...</td>\n",
       "    </tr>\n",
       "  </tbody>\n",
       "</table>\n",
       "</div>"
      ],
      "text/plain": [
       "                              title  \\\n",
       "0           Haikyuu!! Second Season   \n",
       "1           Shigatsu wa Kimi no Uso   \n",
       "2                     Made in Abyss   \n",
       "3  Fullmetal Alchemist: Brotherhood   \n",
       "4  Kizumonogatari III: Reiketsu-hen   \n",
       "\n",
       "                                            synopsis  \n",
       "0  Following their participation at the Inter-Hig...  \n",
       "1  Music accompanies the path of the human metron...  \n",
       "2  The Abyss—a gaping chasm stretching down into ...  \n",
       "3  \"In order for something to be obtained, someth...  \n",
       "4  After helping revive the legendary vampire Kis...  "
      ]
     },
     "execution_count": 5,
     "metadata": {},
     "output_type": "execute_result"
    }
   ],
   "source": [
    "df1.head()"
   ]
  },
  {
   "cell_type": "code",
   "execution_count": 6,
   "id": "91bb029e",
   "metadata": {},
   "outputs": [],
   "source": [
    "new_column_names = {'title': 'Name', 'synopsis': 'Description'}  # Map old names to new names\n",
    "df1 = df1.rename(columns=new_column_names)"
   ]
  },
  {
   "cell_type": "code",
   "execution_count": 7,
   "id": "64a541b2",
   "metadata": {},
   "outputs": [],
   "source": [
    "df1['Name'] = 'Anime | ' + df1['Name']"
   ]
  },
  {
   "cell_type": "code",
   "execution_count": 8,
   "id": "62709d30",
   "metadata": {},
   "outputs": [
    {
     "data": {
      "text/html": [
       "<div>\n",
       "<style scoped>\n",
       "    .dataframe tbody tr th:only-of-type {\n",
       "        vertical-align: middle;\n",
       "    }\n",
       "\n",
       "    .dataframe tbody tr th {\n",
       "        vertical-align: top;\n",
       "    }\n",
       "\n",
       "    .dataframe thead th {\n",
       "        text-align: right;\n",
       "    }\n",
       "</style>\n",
       "<table border=\"1\" class=\"dataframe\">\n",
       "  <thead>\n",
       "    <tr style=\"text-align: right;\">\n",
       "      <th></th>\n",
       "      <th>Name</th>\n",
       "      <th>Description</th>\n",
       "    </tr>\n",
       "  </thead>\n",
       "  <tbody>\n",
       "    <tr>\n",
       "      <th>0</th>\n",
       "      <td>Anime | Haikyuu!! Second Season</td>\n",
       "      <td>Following their participation at the Inter-Hig...</td>\n",
       "    </tr>\n",
       "    <tr>\n",
       "      <th>1</th>\n",
       "      <td>Anime | Shigatsu wa Kimi no Uso</td>\n",
       "      <td>Music accompanies the path of the human metron...</td>\n",
       "    </tr>\n",
       "  </tbody>\n",
       "</table>\n",
       "</div>"
      ],
      "text/plain": [
       "                              Name  \\\n",
       "0  Anime | Haikyuu!! Second Season   \n",
       "1  Anime | Shigatsu wa Kimi no Uso   \n",
       "\n",
       "                                         Description  \n",
       "0  Following their participation at the Inter-Hig...  \n",
       "1  Music accompanies the path of the human metron...  "
      ]
     },
     "execution_count": 8,
     "metadata": {},
     "output_type": "execute_result"
    }
   ],
   "source": [
    "df1.head(2)"
   ]
  },
  {
   "cell_type": "code",
   "execution_count": 9,
   "id": "38d93d3c",
   "metadata": {},
   "outputs": [],
   "source": [
    "df2 = pd.read_csv(\"AnimeWorld.csv\")"
   ]
  },
  {
   "cell_type": "code",
   "execution_count": 10,
   "id": "b5575d6b",
   "metadata": {},
   "outputs": [
    {
     "data": {
      "text/html": [
       "<div>\n",
       "<style scoped>\n",
       "    .dataframe tbody tr th:only-of-type {\n",
       "        vertical-align: middle;\n",
       "    }\n",
       "\n",
       "    .dataframe tbody tr th {\n",
       "        vertical-align: top;\n",
       "    }\n",
       "\n",
       "    .dataframe thead th {\n",
       "        text-align: right;\n",
       "    }\n",
       "</style>\n",
       "<table border=\"1\" class=\"dataframe\">\n",
       "  <thead>\n",
       "    <tr style=\"text-align: right;\">\n",
       "      <th></th>\n",
       "      <th>Anime</th>\n",
       "      <th>Genre</th>\n",
       "      <th>Description</th>\n",
       "      <th>Studio</th>\n",
       "      <th>Year</th>\n",
       "      <th>Rating</th>\n",
       "    </tr>\n",
       "  </thead>\n",
       "  <tbody>\n",
       "    <tr>\n",
       "      <th>0</th>\n",
       "      <td>Re:Zero kara Hajimeru Isekai Seikatsu 2nd Season</td>\n",
       "      <td>['Drama', 'Fantasy', 'Suspense']</td>\n",
       "      <td>A reunion that was supposed to spell the arriv...</td>\n",
       "      <td>White Fox</td>\n",
       "      <td>Jul 8, 2020</td>\n",
       "      <td>8.37</td>\n",
       "    </tr>\n",
       "  </tbody>\n",
       "</table>\n",
       "</div>"
      ],
      "text/plain": [
       "                                              Anime  \\\n",
       "0  Re:Zero kara Hajimeru Isekai Seikatsu 2nd Season   \n",
       "\n",
       "                              Genre  \\\n",
       "0  ['Drama', 'Fantasy', 'Suspense']   \n",
       "\n",
       "                                         Description     Studio         Year  \\\n",
       "0  A reunion that was supposed to spell the arriv...  White Fox  Jul 8, 2020   \n",
       "\n",
       "   Rating  \n",
       "0    8.37  "
      ]
     },
     "execution_count": 10,
     "metadata": {},
     "output_type": "execute_result"
    }
   ],
   "source": [
    "df2.head(1)"
   ]
  },
  {
   "cell_type": "code",
   "execution_count": 11,
   "id": "6176fd05",
   "metadata": {},
   "outputs": [],
   "source": [
    "selected_columns = ['Anime', 'Description']\n",
    "df2 = df2[selected_columns]"
   ]
  },
  {
   "cell_type": "code",
   "execution_count": 12,
   "id": "834cbbad",
   "metadata": {},
   "outputs": [],
   "source": [
    "new_column_names = {'Anime': 'Name', 'Description': 'Description'}  # Map old names to new names\n",
    "df2 = df2.rename(columns=new_column_names)"
   ]
  },
  {
   "cell_type": "code",
   "execution_count": 13,
   "id": "96fd89d8",
   "metadata": {},
   "outputs": [
    {
     "data": {
      "text/html": [
       "<div>\n",
       "<style scoped>\n",
       "    .dataframe tbody tr th:only-of-type {\n",
       "        vertical-align: middle;\n",
       "    }\n",
       "\n",
       "    .dataframe tbody tr th {\n",
       "        vertical-align: top;\n",
       "    }\n",
       "\n",
       "    .dataframe thead th {\n",
       "        text-align: right;\n",
       "    }\n",
       "</style>\n",
       "<table border=\"1\" class=\"dataframe\">\n",
       "  <thead>\n",
       "    <tr style=\"text-align: right;\">\n",
       "      <th></th>\n",
       "      <th>Name</th>\n",
       "      <th>Description</th>\n",
       "    </tr>\n",
       "  </thead>\n",
       "  <tbody>\n",
       "    <tr>\n",
       "      <th>0</th>\n",
       "      <td>Re:Zero kara Hajimeru Isekai Seikatsu 2nd Season</td>\n",
       "      <td>A reunion that was supposed to spell the arriv...</td>\n",
       "    </tr>\n",
       "  </tbody>\n",
       "</table>\n",
       "</div>"
      ],
      "text/plain": [
       "                                               Name  \\\n",
       "0  Re:Zero kara Hajimeru Isekai Seikatsu 2nd Season   \n",
       "\n",
       "                                         Description  \n",
       "0  A reunion that was supposed to spell the arriv...  "
      ]
     },
     "execution_count": 13,
     "metadata": {},
     "output_type": "execute_result"
    }
   ],
   "source": [
    "df2.head(1)"
   ]
  },
  {
   "cell_type": "code",
   "execution_count": 14,
   "id": "93500f4b",
   "metadata": {},
   "outputs": [],
   "source": [
    "df2['Name'] = 'Anime | ' + df2['Name']"
   ]
  },
  {
   "cell_type": "code",
   "execution_count": 15,
   "id": "54090d33",
   "metadata": {},
   "outputs": [],
   "source": [
    "df3 = pd.read_csv(\"Top_Anime_data.csv\")"
   ]
  },
  {
   "cell_type": "code",
   "execution_count": 16,
   "id": "32f4e184",
   "metadata": {},
   "outputs": [
    {
     "data": {
      "text/plain": [
       "Index(['Score', 'Popularity', 'Rank', 'Members', 'Description', 'Synonyms',\n",
       "       'Japanese', 'English', 'Type', 'Episodes', 'Status', 'Aired',\n",
       "       'Premiered', 'Broadcast', 'Producers', 'Licensors', 'Studios', 'Source',\n",
       "       'Genres', 'Demographic', 'Duration', 'Rating'],\n",
       "      dtype='object')"
      ]
     },
     "execution_count": 16,
     "metadata": {},
     "output_type": "execute_result"
    }
   ],
   "source": [
    "df3.columns"
   ]
  },
  {
   "cell_type": "code",
   "execution_count": 17,
   "id": "a4e153dd",
   "metadata": {},
   "outputs": [],
   "source": [
    "selected_columns = ['English', 'Description']\n",
    "df3 = df3[selected_columns]"
   ]
  },
  {
   "cell_type": "code",
   "execution_count": 18,
   "id": "ccd18b19",
   "metadata": {},
   "outputs": [],
   "source": [
    "new_column_names = {'English': 'Name', 'Description': 'Description'} \n",
    "df3 = df3.rename(columns=new_column_names)"
   ]
  },
  {
   "cell_type": "code",
   "execution_count": 19,
   "id": "ed80bf64",
   "metadata": {},
   "outputs": [
    {
     "data": {
      "text/html": [
       "<div>\n",
       "<style scoped>\n",
       "    .dataframe tbody tr th:only-of-type {\n",
       "        vertical-align: middle;\n",
       "    }\n",
       "\n",
       "    .dataframe tbody tr th {\n",
       "        vertical-align: top;\n",
       "    }\n",
       "\n",
       "    .dataframe thead th {\n",
       "        text-align: right;\n",
       "    }\n",
       "</style>\n",
       "<table border=\"1\" class=\"dataframe\">\n",
       "  <thead>\n",
       "    <tr style=\"text-align: right;\">\n",
       "      <th></th>\n",
       "      <th>Name</th>\n",
       "      <th>Description</th>\n",
       "    </tr>\n",
       "  </thead>\n",
       "  <tbody>\n",
       "    <tr>\n",
       "      <th>0</th>\n",
       "      <td>Frieren: Beyond Journey's End</td>\n",
       "      <td>During their decade-long quest to defeat the D...</td>\n",
       "    </tr>\n",
       "    <tr>\n",
       "      <th>1</th>\n",
       "      <td>Fullmetal Alchemist: Brotherhood</td>\n",
       "      <td>After a horrific alchemy experiment goes wrong...</td>\n",
       "    </tr>\n",
       "  </tbody>\n",
       "</table>\n",
       "</div>"
      ],
      "text/plain": [
       "                               Name  \\\n",
       "0     Frieren: Beyond Journey's End   \n",
       "1  Fullmetal Alchemist: Brotherhood   \n",
       "\n",
       "                                         Description  \n",
       "0  During their decade-long quest to defeat the D...  \n",
       "1  After a horrific alchemy experiment goes wrong...  "
      ]
     },
     "execution_count": 19,
     "metadata": {},
     "output_type": "execute_result"
    }
   ],
   "source": [
    "df3.head(2)"
   ]
  },
  {
   "cell_type": "code",
   "execution_count": 34,
   "id": "bfc1813c",
   "metadata": {},
   "outputs": [],
   "source": [
    "df3['Name'] = 'Anime | ' + df3['Name']"
   ]
  },
  {
   "cell_type": "code",
   "execution_count": 28,
   "id": "96dbd49d",
   "metadata": {},
   "outputs": [],
   "source": [
    "#df4 = pd.read_csv(\"hotstar.csv\")"
   ]
  },
  {
   "cell_type": "code",
   "execution_count": 30,
   "id": "5c4ae86f",
   "metadata": {},
   "outputs": [],
   "source": [
    "#selected_columns = ['title', 'description']\n",
    "#df4 = df4[selected_columns]"
   ]
  },
  {
   "cell_type": "code",
   "execution_count": 31,
   "id": "a5510a13",
   "metadata": {},
   "outputs": [],
   "source": [
    "#new_column_names = {'title': 'Name', 'description': 'Description'} \n",
    "#df4 = df4.rename(columns=new_column_names)"
   ]
  },
  {
   "cell_type": "code",
   "execution_count": 32,
   "id": "8adbd151",
   "metadata": {},
   "outputs": [
    {
     "data": {
      "text/html": [
       "<div>\n",
       "<style scoped>\n",
       "    .dataframe tbody tr th:only-of-type {\n",
       "        vertical-align: middle;\n",
       "    }\n",
       "\n",
       "    .dataframe tbody tr th {\n",
       "        vertical-align: top;\n",
       "    }\n",
       "\n",
       "    .dataframe thead th {\n",
       "        text-align: right;\n",
       "    }\n",
       "</style>\n",
       "<table border=\"1\" class=\"dataframe\">\n",
       "  <thead>\n",
       "    <tr style=\"text-align: right;\">\n",
       "      <th></th>\n",
       "      <th>Name</th>\n",
       "      <th>Description</th>\n",
       "    </tr>\n",
       "  </thead>\n",
       "  <tbody>\n",
       "    <tr>\n",
       "      <th>0</th>\n",
       "      <td>Sambha - Aajcha Chawa</td>\n",
       "      <td>A young man sets off on a mission to clean up ...</td>\n",
       "    </tr>\n",
       "    <tr>\n",
       "      <th>1</th>\n",
       "      <td>Cars Toon: Mater And The Ghostlight</td>\n",
       "      <td>Mater is haunted by a mysterious blue light th...</td>\n",
       "    </tr>\n",
       "  </tbody>\n",
       "</table>\n",
       "</div>"
      ],
      "text/plain": [
       "                                  Name  \\\n",
       "0                Sambha - Aajcha Chawa   \n",
       "1  Cars Toon: Mater And The Ghostlight   \n",
       "\n",
       "                                         Description  \n",
       "0  A young man sets off on a mission to clean up ...  \n",
       "1  Mater is haunted by a mysterious blue light th...  "
      ]
     },
     "execution_count": 32,
     "metadata": {},
     "output_type": "execute_result"
    }
   ],
   "source": [
    "#df4.head(2)"
   ]
  },
  {
   "cell_type": "code",
   "execution_count": 37,
   "id": "152765c7",
   "metadata": {},
   "outputs": [],
   "source": [
    "#df4['Name'] = 'Movie | ' + df4['Name']"
   ]
  },
  {
   "cell_type": "code",
   "execution_count": 39,
   "id": "8b86189f",
   "metadata": {},
   "outputs": [
    {
     "data": {
      "text/html": [
       "<div>\n",
       "<style scoped>\n",
       "    .dataframe tbody tr th:only-of-type {\n",
       "        vertical-align: middle;\n",
       "    }\n",
       "\n",
       "    .dataframe tbody tr th {\n",
       "        vertical-align: top;\n",
       "    }\n",
       "\n",
       "    .dataframe thead th {\n",
       "        text-align: right;\n",
       "    }\n",
       "</style>\n",
       "<table border=\"1\" class=\"dataframe\">\n",
       "  <thead>\n",
       "    <tr style=\"text-align: right;\">\n",
       "      <th></th>\n",
       "      <th>Name</th>\n",
       "      <th>Description</th>\n",
       "    </tr>\n",
       "  </thead>\n",
       "  <tbody>\n",
       "    <tr>\n",
       "      <th>0</th>\n",
       "      <td>Movie | Sambha - Aajcha Chawa</td>\n",
       "      <td>A young man sets off on a mission to clean up ...</td>\n",
       "    </tr>\n",
       "  </tbody>\n",
       "</table>\n",
       "</div>"
      ],
      "text/plain": [
       "                            Name  \\\n",
       "0  Movie | Sambha - Aajcha Chawa   \n",
       "\n",
       "                                         Description  \n",
       "0  A young man sets off on a mission to clean up ...  "
      ]
     },
     "execution_count": 39,
     "metadata": {},
     "output_type": "execute_result"
    }
   ],
   "source": [
    "#df4.head(1)"
   ]
  },
  {
   "cell_type": "code",
   "execution_count": 20,
   "id": "71c791cf",
   "metadata": {},
   "outputs": [],
   "source": [
    "df5 = pd.read_csv(\"IMDd Top Indian TV Shows.csv\")"
   ]
  },
  {
   "cell_type": "code",
   "execution_count": 21,
   "id": "c069920a",
   "metadata": {},
   "outputs": [
    {
     "data": {
      "text/html": [
       "<div>\n",
       "<style scoped>\n",
       "    .dataframe tbody tr th:only-of-type {\n",
       "        vertical-align: middle;\n",
       "    }\n",
       "\n",
       "    .dataframe tbody tr th {\n",
       "        vertical-align: top;\n",
       "    }\n",
       "\n",
       "    .dataframe thead th {\n",
       "        text-align: right;\n",
       "    }\n",
       "</style>\n",
       "<table border=\"1\" class=\"dataframe\">\n",
       "  <thead>\n",
       "    <tr style=\"text-align: right;\">\n",
       "      <th></th>\n",
       "      <th>Unnamed: 0</th>\n",
       "      <th>Name</th>\n",
       "      <th>Duration</th>\n",
       "      <th>Genre</th>\n",
       "      <th>Rating</th>\n",
       "      <th>No. of Ratings</th>\n",
       "      <th>No. of Episodes</th>\n",
       "      <th>Creators</th>\n",
       "      <th>Stars</th>\n",
       "      <th>Reviews (Users)</th>\n",
       "      <th>Reviews (Critics)</th>\n",
       "      <th>Seasons</th>\n",
       "      <th>Storyline</th>\n",
       "      <th>Language</th>\n",
       "      <th>Release Date</th>\n",
       "    </tr>\n",
       "  </thead>\n",
       "  <tbody>\n",
       "    <tr>\n",
       "      <th>0</th>\n",
       "      <td>0</td>\n",
       "      <td>The Family Man</td>\n",
       "      <td>45min</td>\n",
       "      <td>['Action', 'Comedy', 'Drama']</td>\n",
       "      <td>8.8</td>\n",
       "      <td>57797.0</td>\n",
       "      <td>19</td>\n",
       "      <td>['Krishna D.K.', 'Raj Nidimoru']</td>\n",
       "      <td>['Manoj Bajpayee', 'Samantha Akkineni', 'Priya...</td>\n",
       "      <td>1328.0</td>\n",
       "      <td>18.0</td>\n",
       "      <td>2.0</td>\n",
       "      <td>The Family Man is an edgy action-drama series,...</td>\n",
       "      <td>Hindi</td>\n",
       "      <td>19 September 2019 (USA)</td>\n",
       "    </tr>\n",
       "  </tbody>\n",
       "</table>\n",
       "</div>"
      ],
      "text/plain": [
       "   Unnamed: 0            Name Duration                          Genre  Rating  \\\n",
       "0           0  The Family Man    45min  ['Action', 'Comedy', 'Drama']     8.8   \n",
       "\n",
       "   No. of Ratings  No. of Episodes                          Creators  \\\n",
       "0         57797.0               19  ['Krishna D.K.', 'Raj Nidimoru']   \n",
       "\n",
       "                                               Stars  Reviews (Users)  \\\n",
       "0  ['Manoj Bajpayee', 'Samantha Akkineni', 'Priya...           1328.0   \n",
       "\n",
       "   Reviews (Critics)  Seasons  \\\n",
       "0               18.0      2.0   \n",
       "\n",
       "                                           Storyline Language  \\\n",
       "0  The Family Man is an edgy action-drama series,...    Hindi   \n",
       "\n",
       "              Release Date  \n",
       "0  19 September 2019 (USA)  "
      ]
     },
     "execution_count": 21,
     "metadata": {},
     "output_type": "execute_result"
    }
   ],
   "source": [
    "df5.head(1)"
   ]
  },
  {
   "cell_type": "code",
   "execution_count": 22,
   "id": "16813d76",
   "metadata": {},
   "outputs": [],
   "source": [
    "selected_columns = ['Name', 'Storyline']\n",
    "df5 = df5[selected_columns]"
   ]
  },
  {
   "cell_type": "code",
   "execution_count": 23,
   "id": "93356a8b",
   "metadata": {},
   "outputs": [],
   "source": [
    "new_column_names = {'Name': 'Name', 'Storyline': 'Description'} \n",
    "df5 = df5.rename(columns=new_column_names)"
   ]
  },
  {
   "cell_type": "code",
   "execution_count": 24,
   "id": "483e0651",
   "metadata": {},
   "outputs": [],
   "source": [
    "df5['Name'] = 'Hindi TV Show | ' + df5['Name']"
   ]
  },
  {
   "cell_type": "code",
   "execution_count": 25,
   "id": "4d9e2b82",
   "metadata": {},
   "outputs": [
    {
     "data": {
      "text/html": [
       "<div>\n",
       "<style scoped>\n",
       "    .dataframe tbody tr th:only-of-type {\n",
       "        vertical-align: middle;\n",
       "    }\n",
       "\n",
       "    .dataframe tbody tr th {\n",
       "        vertical-align: top;\n",
       "    }\n",
       "\n",
       "    .dataframe thead th {\n",
       "        text-align: right;\n",
       "    }\n",
       "</style>\n",
       "<table border=\"1\" class=\"dataframe\">\n",
       "  <thead>\n",
       "    <tr style=\"text-align: right;\">\n",
       "      <th></th>\n",
       "      <th>Name</th>\n",
       "      <th>Description</th>\n",
       "    </tr>\n",
       "  </thead>\n",
       "  <tbody>\n",
       "    <tr>\n",
       "      <th>0</th>\n",
       "      <td>Hindi TV Show | The Family Man</td>\n",
       "      <td>The Family Man is an edgy action-drama series,...</td>\n",
       "    </tr>\n",
       "  </tbody>\n",
       "</table>\n",
       "</div>"
      ],
      "text/plain": [
       "                             Name  \\\n",
       "0  Hindi TV Show | The Family Man   \n",
       "\n",
       "                                         Description  \n",
       "0  The Family Man is an edgy action-drama series,...  "
      ]
     },
     "execution_count": 25,
     "metadata": {},
     "output_type": "execute_result"
    }
   ],
   "source": [
    "df5.head(1)"
   ]
  },
  {
   "cell_type": "code",
   "execution_count": 26,
   "id": "54516565",
   "metadata": {},
   "outputs": [],
   "source": [
    "df6 = pd.read_csv(\"Top Indian Movies.csv\")"
   ]
  },
  {
   "cell_type": "code",
   "execution_count": 27,
   "id": "17ab9f83",
   "metadata": {},
   "outputs": [
    {
     "data": {
      "text/html": [
       "<div>\n",
       "<style scoped>\n",
       "    .dataframe tbody tr th:only-of-type {\n",
       "        vertical-align: middle;\n",
       "    }\n",
       "\n",
       "    .dataframe tbody tr th {\n",
       "        vertical-align: top;\n",
       "    }\n",
       "\n",
       "    .dataframe thead th {\n",
       "        text-align: right;\n",
       "    }\n",
       "</style>\n",
       "<table border=\"1\" class=\"dataframe\">\n",
       "  <thead>\n",
       "    <tr style=\"text-align: right;\">\n",
       "      <th></th>\n",
       "      <th>Title</th>\n",
       "      <th>Year of Release</th>\n",
       "      <th>Rating</th>\n",
       "      <th>Number of Reviews</th>\n",
       "      <th>Popularity Index</th>\n",
       "      <th>Movie Cast</th>\n",
       "      <th>Director</th>\n",
       "      <th>Description</th>\n",
       "    </tr>\n",
       "  </thead>\n",
       "  <tbody>\n",
       "    <tr>\n",
       "      <th>0</th>\n",
       "      <td>Anbe Sivam</td>\n",
       "      <td>2003</td>\n",
       "      <td>8.7</td>\n",
       "      <td>21K</td>\n",
       "      <td>11,629</td>\n",
       "      <td>['Kamal Haasan', 'Madhavan', 'Kiran Rathod', '...</td>\n",
       "      <td>Sundar C.</td>\n",
       "      <td>Two men, one young and arrogant, the other dam...</td>\n",
       "    </tr>\n",
       "  </tbody>\n",
       "</table>\n",
       "</div>"
      ],
      "text/plain": [
       "        Title  Year of Release  Rating Number of Reviews Popularity Index  \\\n",
       "0  Anbe Sivam             2003     8.7               21K           11,629   \n",
       "\n",
       "                                          Movie Cast   Director  \\\n",
       "0  ['Kamal Haasan', 'Madhavan', 'Kiran Rathod', '...  Sundar C.   \n",
       "\n",
       "                                         Description  \n",
       "0  Two men, one young and arrogant, the other dam...  "
      ]
     },
     "execution_count": 27,
     "metadata": {},
     "output_type": "execute_result"
    }
   ],
   "source": [
    "df6.head(1)"
   ]
  },
  {
   "cell_type": "code",
   "execution_count": 28,
   "id": "7470704c",
   "metadata": {},
   "outputs": [],
   "source": [
    "selected_columns = ['Title', 'Description']\n",
    "df6 = df6[selected_columns]"
   ]
  },
  {
   "cell_type": "code",
   "execution_count": 29,
   "id": "1097c5eb",
   "metadata": {},
   "outputs": [],
   "source": [
    "new_column_names = {'Title': 'Name', 'Description': 'Description'} \n",
    "df6 = df6.rename(columns=new_column_names)"
   ]
  },
  {
   "cell_type": "code",
   "execution_count": 30,
   "id": "7bdffc9b",
   "metadata": {},
   "outputs": [],
   "source": [
    "df6['Name'] = 'Hindi Movie | ' + df6['Name']"
   ]
  },
  {
   "cell_type": "code",
   "execution_count": 31,
   "id": "cf03dd20",
   "metadata": {},
   "outputs": [
    {
     "data": {
      "text/html": [
       "<div>\n",
       "<style scoped>\n",
       "    .dataframe tbody tr th:only-of-type {\n",
       "        vertical-align: middle;\n",
       "    }\n",
       "\n",
       "    .dataframe tbody tr th {\n",
       "        vertical-align: top;\n",
       "    }\n",
       "\n",
       "    .dataframe thead th {\n",
       "        text-align: right;\n",
       "    }\n",
       "</style>\n",
       "<table border=\"1\" class=\"dataframe\">\n",
       "  <thead>\n",
       "    <tr style=\"text-align: right;\">\n",
       "      <th></th>\n",
       "      <th>Name</th>\n",
       "      <th>Description</th>\n",
       "    </tr>\n",
       "  </thead>\n",
       "  <tbody>\n",
       "    <tr>\n",
       "      <th>0</th>\n",
       "      <td>Hindi Movie | Anbe Sivam</td>\n",
       "      <td>Two men, one young and arrogant, the other dam...</td>\n",
       "    </tr>\n",
       "    <tr>\n",
       "      <th>1</th>\n",
       "      <td>Hindi Movie | Golmaal</td>\n",
       "      <td>A man's simple lie to secure his job escalates...</td>\n",
       "    </tr>\n",
       "  </tbody>\n",
       "</table>\n",
       "</div>"
      ],
      "text/plain": [
       "                       Name                                        Description\n",
       "0  Hindi Movie | Anbe Sivam  Two men, one young and arrogant, the other dam...\n",
       "1     Hindi Movie | Golmaal  A man's simple lie to secure his job escalates..."
      ]
     },
     "execution_count": 31,
     "metadata": {},
     "output_type": "execute_result"
    }
   ],
   "source": [
    "df6.head(2)"
   ]
  },
  {
   "cell_type": "code",
   "execution_count": 32,
   "id": "e803d350",
   "metadata": {},
   "outputs": [],
   "source": [
    "df7 = pd.read_csv(\"Indian_movies.csv\")"
   ]
  },
  {
   "cell_type": "code",
   "execution_count": 33,
   "id": "68a3f96f",
   "metadata": {},
   "outputs": [
    {
     "data": {
      "text/html": [
       "<div>\n",
       "<style scoped>\n",
       "    .dataframe tbody tr th:only-of-type {\n",
       "        vertical-align: middle;\n",
       "    }\n",
       "\n",
       "    .dataframe tbody tr th {\n",
       "        vertical-align: top;\n",
       "    }\n",
       "\n",
       "    .dataframe thead th {\n",
       "        text-align: right;\n",
       "    }\n",
       "</style>\n",
       "<table border=\"1\" class=\"dataframe\">\n",
       "  <thead>\n",
       "    <tr style=\"text-align: right;\">\n",
       "      <th></th>\n",
       "      <th>Unnamed: 0</th>\n",
       "      <th>Rank</th>\n",
       "      <th>Movie Names</th>\n",
       "      <th>Links</th>\n",
       "      <th>Rating</th>\n",
       "      <th>Year</th>\n",
       "      <th>Duration_of_movie</th>\n",
       "      <th>Genere</th>\n",
       "      <th>Description</th>\n",
       "    </tr>\n",
       "  </thead>\n",
       "  <tbody>\n",
       "    <tr>\n",
       "      <th>0</th>\n",
       "      <td>0</td>\n",
       "      <td>1</td>\n",
       "      <td>Ramayana: The Legend of Prince Rama</td>\n",
       "      <td>https://www.imdb.com//title/tt0259534/?ref_=fe...</td>\n",
       "      <td>9.2</td>\n",
       "      <td>1993</td>\n",
       "      <td>PG</td>\n",
       "      <td>Animation,Action,Adventure,Back to top</td>\n",
       "      <td>An anime adaptation of the Hindu epic the Rama...</td>\n",
       "    </tr>\n",
       "  </tbody>\n",
       "</table>\n",
       "</div>"
      ],
      "text/plain": [
       "   Unnamed: 0  Rank                          Movie Names  \\\n",
       "0           0     1  Ramayana: The Legend of Prince Rama   \n",
       "\n",
       "                                               Links  Rating  Year  \\\n",
       "0  https://www.imdb.com//title/tt0259534/?ref_=fe...     9.2  1993   \n",
       "\n",
       "  Duration_of_movie                                  Genere  \\\n",
       "0                PG  Animation,Action,Adventure,Back to top   \n",
       "\n",
       "                                         Description  \n",
       "0  An anime adaptation of the Hindu epic the Rama...  "
      ]
     },
     "execution_count": 33,
     "metadata": {},
     "output_type": "execute_result"
    }
   ],
   "source": [
    "df7.head(1)"
   ]
  },
  {
   "cell_type": "code",
   "execution_count": 34,
   "id": "76649e04",
   "metadata": {},
   "outputs": [],
   "source": [
    "selected_columns = ['Movie Names', 'Description']\n",
    "df7 = df7[selected_columns]"
   ]
  },
  {
   "cell_type": "code",
   "execution_count": 35,
   "id": "add12518",
   "metadata": {},
   "outputs": [],
   "source": [
    "new_column_names = {'Movie Names': 'Name', 'Description': 'Description'} \n",
    "df7 = df7.rename(columns=new_column_names)"
   ]
  },
  {
   "cell_type": "code",
   "execution_count": 36,
   "id": "fbe6d1e6",
   "metadata": {},
   "outputs": [],
   "source": [
    "df7['Name'] = 'Hindi Movie | ' + df7['Name']"
   ]
  },
  {
   "cell_type": "code",
   "execution_count": 37,
   "id": "4c303ca4",
   "metadata": {},
   "outputs": [
    {
     "data": {
      "text/html": [
       "<div>\n",
       "<style scoped>\n",
       "    .dataframe tbody tr th:only-of-type {\n",
       "        vertical-align: middle;\n",
       "    }\n",
       "\n",
       "    .dataframe tbody tr th {\n",
       "        vertical-align: top;\n",
       "    }\n",
       "\n",
       "    .dataframe thead th {\n",
       "        text-align: right;\n",
       "    }\n",
       "</style>\n",
       "<table border=\"1\" class=\"dataframe\">\n",
       "  <thead>\n",
       "    <tr style=\"text-align: right;\">\n",
       "      <th></th>\n",
       "      <th>Name</th>\n",
       "      <th>Description</th>\n",
       "    </tr>\n",
       "  </thead>\n",
       "  <tbody>\n",
       "    <tr>\n",
       "      <th>0</th>\n",
       "      <td>Hindi Movie | Ramayana: The Legend of Prince Rama</td>\n",
       "      <td>An anime adaptation of the Hindu epic the Rama...</td>\n",
       "    </tr>\n",
       "    <tr>\n",
       "      <th>1</th>\n",
       "      <td>Hindi Movie | Rocketry: The Nambi Effect</td>\n",
       "      <td>Based on the life of Indian Space Research Org...</td>\n",
       "    </tr>\n",
       "  </tbody>\n",
       "</table>\n",
       "</div>"
      ],
      "text/plain": [
       "                                                Name  \\\n",
       "0  Hindi Movie | Ramayana: The Legend of Prince Rama   \n",
       "1           Hindi Movie | Rocketry: The Nambi Effect   \n",
       "\n",
       "                                         Description  \n",
       "0  An anime adaptation of the Hindu epic the Rama...  \n",
       "1  Based on the life of Indian Space Research Org...  "
      ]
     },
     "execution_count": 37,
     "metadata": {},
     "output_type": "execute_result"
    }
   ],
   "source": [
    "df7.head(2)"
   ]
  },
  {
   "cell_type": "code",
   "execution_count": 38,
   "id": "590854c8",
   "metadata": {},
   "outputs": [],
   "source": [
    "df8 = pd.read_csv(\"IMDB_10000.csv\")"
   ]
  },
  {
   "cell_type": "code",
   "execution_count": 39,
   "id": "eec54990",
   "metadata": {},
   "outputs": [
    {
     "data": {
      "text/html": [
       "<div>\n",
       "<style scoped>\n",
       "    .dataframe tbody tr th:only-of-type {\n",
       "        vertical-align: middle;\n",
       "    }\n",
       "\n",
       "    .dataframe tbody tr th {\n",
       "        vertical-align: top;\n",
       "    }\n",
       "\n",
       "    .dataframe thead th {\n",
       "        text-align: right;\n",
       "    }\n",
       "</style>\n",
       "<table border=\"1\" class=\"dataframe\">\n",
       "  <thead>\n",
       "    <tr style=\"text-align: right;\">\n",
       "      <th></th>\n",
       "      <th>title</th>\n",
       "      <th>year</th>\n",
       "      <th>certificate</th>\n",
       "      <th>runtime</th>\n",
       "      <th>genre</th>\n",
       "      <th>desc</th>\n",
       "      <th>rating</th>\n",
       "      <th>votes</th>\n",
       "    </tr>\n",
       "  </thead>\n",
       "  <tbody>\n",
       "    <tr>\n",
       "      <th>9996</th>\n",
       "      <td>Aadmi Sadak Ka</td>\n",
       "      <td>1977</td>\n",
       "      <td>NaN</td>\n",
       "      <td>138 min</td>\n",
       "      <td>Drama, Family</td>\n",
       "      <td>NaN</td>\n",
       "      <td>NaN</td>\n",
       "      <td>NaN</td>\n",
       "    </tr>\n",
       "    <tr>\n",
       "      <th>9997</th>\n",
       "      <td>Nadodi Mannan</td>\n",
       "      <td>1958</td>\n",
       "      <td>NaN</td>\n",
       "      <td>220 min</td>\n",
       "      <td>Action, Adventure, Comedy</td>\n",
       "      <td>NaN</td>\n",
       "      <td>NaN</td>\n",
       "      <td>NaN</td>\n",
       "    </tr>\n",
       "    <tr>\n",
       "      <th>9998</th>\n",
       "      <td>Njan Marykutty</td>\n",
       "      <td>2018</td>\n",
       "      <td>U</td>\n",
       "      <td>126 min</td>\n",
       "      <td>Drama</td>\n",
       "      <td>NaN</td>\n",
       "      <td>NaN</td>\n",
       "      <td>NaN</td>\n",
       "    </tr>\n",
       "    <tr>\n",
       "      <th>9999</th>\n",
       "      <td>Paap Ko Jalaa Kar Raakh Kar Doonga</td>\n",
       "      <td>1988</td>\n",
       "      <td>UA</td>\n",
       "      <td>153 min</td>\n",
       "      <td>Crime</td>\n",
       "      <td>NaN</td>\n",
       "      <td>NaN</td>\n",
       "      <td>NaN</td>\n",
       "    </tr>\n",
       "  </tbody>\n",
       "</table>\n",
       "</div>"
      ],
      "text/plain": [
       "                                   title  year certificate  runtime  \\\n",
       "9996                      Aadmi Sadak Ka  1977         NaN  138 min   \n",
       "9997                       Nadodi Mannan  1958         NaN  220 min   \n",
       "9998                      Njan Marykutty  2018           U  126 min   \n",
       "9999  Paap Ko Jalaa Kar Raakh Kar Doonga  1988          UA  153 min   \n",
       "\n",
       "                                      genre desc  rating votes  \n",
       "9996              Drama, Family              NaN     NaN   NaN  \n",
       "9997  Action, Adventure, Comedy              NaN     NaN   NaN  \n",
       "9998                      Drama              NaN     NaN   NaN  \n",
       "9999                      Crime              NaN     NaN   NaN  "
      ]
     },
     "execution_count": 39,
     "metadata": {},
     "output_type": "execute_result"
    }
   ],
   "source": [
    "df8.tail(4)"
   ]
  },
  {
   "cell_type": "code",
   "execution_count": 40,
   "id": "963263bc",
   "metadata": {},
   "outputs": [],
   "source": [
    "selected_columns = ['title', 'desc']\n",
    "df8 = df8[selected_columns]"
   ]
  },
  {
   "cell_type": "code",
   "execution_count": 41,
   "id": "4ffc0615",
   "metadata": {},
   "outputs": [],
   "source": [
    "new_column_names = {'title': 'Name', 'desc': 'Description'} \n",
    "df8 = df8.rename(columns=new_column_names)"
   ]
  },
  {
   "cell_type": "code",
   "execution_count": 42,
   "id": "010582fd",
   "metadata": {},
   "outputs": [],
   "source": [
    "df8['Name'] = 'Movie | ' + df8['Name']"
   ]
  },
  {
   "cell_type": "code",
   "execution_count": 43,
   "id": "b5dc7a5c",
   "metadata": {},
   "outputs": [
    {
     "data": {
      "text/html": [
       "<div>\n",
       "<style scoped>\n",
       "    .dataframe tbody tr th:only-of-type {\n",
       "        vertical-align: middle;\n",
       "    }\n",
       "\n",
       "    .dataframe tbody tr th {\n",
       "        vertical-align: top;\n",
       "    }\n",
       "\n",
       "    .dataframe thead th {\n",
       "        text-align: right;\n",
       "    }\n",
       "</style>\n",
       "<table border=\"1\" class=\"dataframe\">\n",
       "  <thead>\n",
       "    <tr style=\"text-align: right;\">\n",
       "      <th></th>\n",
       "      <th>Name</th>\n",
       "      <th>Description</th>\n",
       "    </tr>\n",
       "  </thead>\n",
       "  <tbody>\n",
       "    <tr>\n",
       "      <th>0</th>\n",
       "      <td>Movie | Freddy</td>\n",
       "      <td>The lines between love and obsession blur in t...</td>\n",
       "    </tr>\n",
       "  </tbody>\n",
       "</table>\n",
       "</div>"
      ],
      "text/plain": [
       "             Name                                        Description\n",
       "0  Movie | Freddy  The lines between love and obsession blur in t..."
      ]
     },
     "execution_count": 43,
     "metadata": {},
     "output_type": "execute_result"
    }
   ],
   "source": [
    "df8.head(1)"
   ]
  },
  {
   "cell_type": "code",
   "execution_count": 44,
   "id": "b85649e0",
   "metadata": {},
   "outputs": [],
   "source": [
    "df9 = pd.read_csv(\"Top Rated Movie Database.csv\")"
   ]
  },
  {
   "cell_type": "code",
   "execution_count": 45,
   "id": "e56e5af9",
   "metadata": {},
   "outputs": [
    {
     "data": {
      "text/html": [
       "<div>\n",
       "<style scoped>\n",
       "    .dataframe tbody tr th:only-of-type {\n",
       "        vertical-align: middle;\n",
       "    }\n",
       "\n",
       "    .dataframe tbody tr th {\n",
       "        vertical-align: top;\n",
       "    }\n",
       "\n",
       "    .dataframe thead th {\n",
       "        text-align: right;\n",
       "    }\n",
       "</style>\n",
       "<table border=\"1\" class=\"dataframe\">\n",
       "  <thead>\n",
       "    <tr style=\"text-align: right;\">\n",
       "      <th></th>\n",
       "      <th>Popularity</th>\n",
       "      <th>Vote Count</th>\n",
       "      <th>Titile</th>\n",
       "      <th>Vote Average</th>\n",
       "      <th>Overview</th>\n",
       "      <th>Release Date</th>\n",
       "    </tr>\n",
       "  </thead>\n",
       "  <tbody>\n",
       "    <tr>\n",
       "      <th>9999</th>\n",
       "      <td>7.576</td>\n",
       "      <td>247</td>\n",
       "      <td>Our Souls at Night</td>\n",
       "      <td>6.6</td>\n",
       "      <td>Addie Moore and Louis Waters, a widow and wido...</td>\n",
       "      <td>2017-09-01</td>\n",
       "    </tr>\n",
       "  </tbody>\n",
       "</table>\n",
       "</div>"
      ],
      "text/plain": [
       "      Popularity  Vote Count              Titile  Vote Average  \\\n",
       "9999       7.576         247  Our Souls at Night           6.6   \n",
       "\n",
       "                                               Overview Release Date  \n",
       "9999  Addie Moore and Louis Waters, a widow and wido...   2017-09-01  "
      ]
     },
     "execution_count": 45,
     "metadata": {},
     "output_type": "execute_result"
    }
   ],
   "source": [
    "df9.tail(1)"
   ]
  },
  {
   "cell_type": "code",
   "execution_count": 46,
   "id": "5fccac14",
   "metadata": {},
   "outputs": [],
   "source": [
    "selected_columns = ['Titile', 'Overview']\n",
    "df9 = df9[selected_columns]"
   ]
  },
  {
   "cell_type": "code",
   "execution_count": 47,
   "id": "9144d0e4",
   "metadata": {},
   "outputs": [],
   "source": [
    "new_column_names = {'Titile': 'Name', 'Overview': 'Description'} \n",
    "df9 = df9.rename(columns=new_column_names)"
   ]
  },
  {
   "cell_type": "code",
   "execution_count": 48,
   "id": "18e4c6f0",
   "metadata": {},
   "outputs": [],
   "source": [
    "df9['Name'] = 'English Movie | ' + df9['Name']"
   ]
  },
  {
   "cell_type": "code",
   "execution_count": 49,
   "id": "216b8311",
   "metadata": {},
   "outputs": [
    {
     "data": {
      "text/html": [
       "<div>\n",
       "<style scoped>\n",
       "    .dataframe tbody tr th:only-of-type {\n",
       "        vertical-align: middle;\n",
       "    }\n",
       "\n",
       "    .dataframe tbody tr th {\n",
       "        vertical-align: top;\n",
       "    }\n",
       "\n",
       "    .dataframe thead th {\n",
       "        text-align: right;\n",
       "    }\n",
       "</style>\n",
       "<table border=\"1\" class=\"dataframe\">\n",
       "  <thead>\n",
       "    <tr style=\"text-align: right;\">\n",
       "      <th></th>\n",
       "      <th>Name</th>\n",
       "      <th>Description</th>\n",
       "    </tr>\n",
       "  </thead>\n",
       "  <tbody>\n",
       "    <tr>\n",
       "      <th>0</th>\n",
       "      <td>English Movie | Ad Astra</td>\n",
       "      <td>The near future, a time when both hope and har...</td>\n",
       "    </tr>\n",
       "  </tbody>\n",
       "</table>\n",
       "</div>"
      ],
      "text/plain": [
       "                       Name                                        Description\n",
       "0  English Movie | Ad Astra  The near future, a time when both hope and har..."
      ]
     },
     "execution_count": 49,
     "metadata": {},
     "output_type": "execute_result"
    }
   ],
   "source": [
    "df9.head(1)"
   ]
  },
  {
   "cell_type": "code",
   "execution_count": 50,
   "id": "cb9deb1f",
   "metadata": {},
   "outputs": [],
   "source": [
    "df10 = pd.read_csv(\"imdb-movies-dataset.csv\")"
   ]
  },
  {
   "cell_type": "code",
   "execution_count": 51,
   "id": "3aafb929",
   "metadata": {},
   "outputs": [
    {
     "data": {
      "text/html": [
       "<div>\n",
       "<style scoped>\n",
       "    .dataframe tbody tr th:only-of-type {\n",
       "        vertical-align: middle;\n",
       "    }\n",
       "\n",
       "    .dataframe tbody tr th {\n",
       "        vertical-align: top;\n",
       "    }\n",
       "\n",
       "    .dataframe thead th {\n",
       "        text-align: right;\n",
       "    }\n",
       "</style>\n",
       "<table border=\"1\" class=\"dataframe\">\n",
       "  <thead>\n",
       "    <tr style=\"text-align: right;\">\n",
       "      <th></th>\n",
       "      <th>Poster</th>\n",
       "      <th>Title</th>\n",
       "      <th>Year</th>\n",
       "      <th>Certificate</th>\n",
       "      <th>Duration (min)</th>\n",
       "      <th>Genre</th>\n",
       "      <th>Rating</th>\n",
       "      <th>Metascore</th>\n",
       "      <th>Director</th>\n",
       "      <th>Cast</th>\n",
       "      <th>Votes</th>\n",
       "      <th>Description</th>\n",
       "      <th>Review Count</th>\n",
       "      <th>Review Title</th>\n",
       "      <th>Review</th>\n",
       "    </tr>\n",
       "  </thead>\n",
       "  <tbody>\n",
       "    <tr>\n",
       "      <th>9999</th>\n",
       "      <td>https://m.media-amazon.com/images/M/MV5BMmE4ZD...</td>\n",
       "      <td>Un homme et une femme</td>\n",
       "      <td>2020.0</td>\n",
       "      <td>NaN</td>\n",
       "      <td>102.0</td>\n",
       "      <td>Drama, Romance</td>\n",
       "      <td>7.5</td>\n",
       "      <td>NaN</td>\n",
       "      <td>Claude Lelouch</td>\n",
       "      <td>Anouk Aimée, Jean-Louis Trintignant, Pierre Ba...</td>\n",
       "      <td>11,826</td>\n",
       "      <td>A widow and a widower find their relationship ...</td>\n",
       "      <td>61</td>\n",
       "      <td>Moved me tremendously.</td>\n",
       "      <td>This is a movie that resonated to my core.  I ...</td>\n",
       "    </tr>\n",
       "  </tbody>\n",
       "</table>\n",
       "</div>"
      ],
      "text/plain": [
       "                                                 Poster  \\\n",
       "9999  https://m.media-amazon.com/images/M/MV5BMmE4ZD...   \n",
       "\n",
       "                      Title    Year Certificate  Duration (min)  \\\n",
       "9999  Un homme et une femme  2020.0         NaN           102.0   \n",
       "\n",
       "               Genre  Rating  Metascore        Director  \\\n",
       "9999  Drama, Romance     7.5        NaN  Claude Lelouch   \n",
       "\n",
       "                                                   Cast   Votes  \\\n",
       "9999  Anouk Aimée, Jean-Louis Trintignant, Pierre Ba...  11,826   \n",
       "\n",
       "                                            Description Review Count  \\\n",
       "9999  A widow and a widower find their relationship ...           61   \n",
       "\n",
       "                Review Title  \\\n",
       "9999  Moved me tremendously.   \n",
       "\n",
       "                                                 Review  \n",
       "9999  This is a movie that resonated to my core.  I ...  "
      ]
     },
     "execution_count": 51,
     "metadata": {},
     "output_type": "execute_result"
    }
   ],
   "source": [
    "df10.tail(1)"
   ]
  },
  {
   "cell_type": "code",
   "execution_count": 52,
   "id": "02eb1bb3",
   "metadata": {},
   "outputs": [],
   "source": [
    "selected_columns = ['Title', 'Description']\n",
    "df10 = df10[selected_columns]"
   ]
  },
  {
   "cell_type": "code",
   "execution_count": 53,
   "id": "78139144",
   "metadata": {},
   "outputs": [],
   "source": [
    "new_column_names = {'Title': 'Name', 'Description': 'Description'} \n",
    "df10 = df10.rename(columns=new_column_names)"
   ]
  },
  {
   "cell_type": "code",
   "execution_count": 54,
   "id": "9ebd20b3",
   "metadata": {},
   "outputs": [],
   "source": [
    "df10['Name'] = 'English Movie | ' + df10['Name']"
   ]
  },
  {
   "cell_type": "code",
   "execution_count": 55,
   "id": "850a3456",
   "metadata": {},
   "outputs": [
    {
     "data": {
      "text/html": [
       "<div>\n",
       "<style scoped>\n",
       "    .dataframe tbody tr th:only-of-type {\n",
       "        vertical-align: middle;\n",
       "    }\n",
       "\n",
       "    .dataframe tbody tr th {\n",
       "        vertical-align: top;\n",
       "    }\n",
       "\n",
       "    .dataframe thead th {\n",
       "        text-align: right;\n",
       "    }\n",
       "</style>\n",
       "<table border=\"1\" class=\"dataframe\">\n",
       "  <thead>\n",
       "    <tr style=\"text-align: right;\">\n",
       "      <th></th>\n",
       "      <th>Name</th>\n",
       "      <th>Description</th>\n",
       "    </tr>\n",
       "  </thead>\n",
       "  <tbody>\n",
       "    <tr>\n",
       "      <th>0</th>\n",
       "      <td>English Movie | The Idea of You</td>\n",
       "      <td>Solène, a 40-year-old single mom, begins an un...</td>\n",
       "    </tr>\n",
       "  </tbody>\n",
       "</table>\n",
       "</div>"
      ],
      "text/plain": [
       "                              Name  \\\n",
       "0  English Movie | The Idea of You   \n",
       "\n",
       "                                         Description  \n",
       "0  Solène, a 40-year-old single mom, begins an un...  "
      ]
     },
     "execution_count": 55,
     "metadata": {},
     "output_type": "execute_result"
    }
   ],
   "source": [
    "df10.head(1)"
   ]
  },
  {
   "cell_type": "code",
   "execution_count": 63,
   "id": "e4d9f89a",
   "metadata": {},
   "outputs": [
    {
     "name": "stdout",
     "output_type": "stream",
     "text": [
      "                                                    Name  \\\n",
      "0                        Anime | Haikyuu!! Second Season   \n",
      "1                        Anime | Shigatsu wa Kimi no Uso   \n",
      "2                                  Anime | Made in Abyss   \n",
      "3               Anime | Fullmetal Alchemist: Brotherhood   \n",
      "4               Anime | Kizumonogatari III: Reiketsu-hen   \n",
      "...                                                  ...   \n",
      "44287         English Movie | The Greatest Show on Earth   \n",
      "44288  English Movie | Berserk: Ougon Jidai-hen I - H...   \n",
      "44289                         English Movie | Is-slottet   \n",
      "44290                       English Movie | Loving Pablo   \n",
      "44291              English Movie | Un homme et une femme   \n",
      "\n",
      "                                             Description  \n",
      "0      Following their participation at the Inter-Hig...  \n",
      "1      Music accompanies the path of the human metron...  \n",
      "2      The Abyss—a gaping chasm stretching down into ...  \n",
      "3      \"In order for something to be obtained, someth...  \n",
      "4      After helping revive the legendary vampire Kis...  \n",
      "...                                                  ...  \n",
      "44287  The dramatic lives of trapeze artists, a clown...  \n",
      "44288  A lone sellsword named Guts gets recruited int...  \n",
      "44289  A couple of twelve-year-old Norwegian girls st...  \n",
      "44290  A journalist strikes up a romantic relationshi...  \n",
      "44291  A widow and a widower find their relationship ...  \n",
      "\n",
      "[44292 rows x 2 columns]\n"
     ]
    }
   ],
   "source": [
    "dfs = [df1, df2, df3, df5, df6, df7, df9, df10]\n",
    "\n",
    "merged_df = pd.concat(dfs, ignore_index=True)\n",
    "\n",
    "print(merged_df)"
   ]
  },
  {
   "cell_type": "code",
   "execution_count": 79,
   "id": "ab865ab9",
   "metadata": {},
   "outputs": [
    {
     "name": "stdout",
     "output_type": "stream",
     "text": [
      "DataFrame saved to hybrid_rec.csv\n"
     ]
    }
   ],
   "source": [
    "csv_file_path = 'hybrid_rec.csv'\n",
    "merged_df.to_csv(csv_file_path, index=False)\n",
    "\n",
    "print(f\"DataFrame saved to {csv_file_path}\")"
   ]
  },
  {
   "cell_type": "code",
   "execution_count": 64,
   "id": "26cf51a2",
   "metadata": {},
   "outputs": [
    {
     "name": "stdout",
     "output_type": "stream",
     "text": [
      "                                                    Name  \\\n",
      "0         Anime | Jouran: The Princess of Snow and Blood   \n",
      "1                     English Movie | Kong: Skull Island   \n",
      "2           Anime | Kuragehime: Soreike! Amars Tankentai   \n",
      "3                             English Movie | Collateral   \n",
      "4                         English Movie | The Invitation   \n",
      "...                                                  ...   \n",
      "44287                 English Movie | Mr. Malcolm's List   \n",
      "44288                              Golden Kamuy Season 2   \n",
      "44289  Anime | Dragon Quest X: Boukensha-tachi no Kiseki   \n",
      "44290                           Anime | Bubblegum Crisis   \n",
      "44291                English Movie | Mississippi Burning   \n",
      "\n",
      "                                             Description  \n",
      "0      In 1931, the Tokugawa Shogunate remains in pow...  \n",
      "1      Explore the mysterious and dangerous home of t...  \n",
      "2            The Amars go on an adventure in the forest.  \n",
      "3      A cab driver finds himself the hostage of an e...  \n",
      "4      When a man accepts an invitation to a dinner p...  \n",
      "...                                                  ...  \n",
      "44287  A young woman courts a mysterious wealthy suit...  \n",
      "44288  In Hokkaido, it is rumored that there is a sta...  \n",
      "44289  The anime celebrates the  Dragon Quest X  onli...  \n",
      "44290  In the near future, Tokyo was left flattened a...  \n",
      "44291  Two F.B.I. Agents with wildly different styles...  \n",
      "\n",
      "[44292 rows x 2 columns]\n"
     ]
    }
   ],
   "source": [
    "import pandas as pd\n",
    "\n",
    "merged_df = merged_df.sample(frac=1)  \n",
    "\n",
    "merged_df = merged_df.reset_index(drop=True)\n",
    "\n",
    "print(merged_df)"
   ]
  },
  {
   "cell_type": "code",
   "execution_count": 65,
   "id": "30c59369",
   "metadata": {},
   "outputs": [],
   "source": [
    "merged_df = merged_df.drop_duplicates()"
   ]
  },
  {
   "cell_type": "code",
   "execution_count": 66,
   "id": "f33b1185",
   "metadata": {},
   "outputs": [
    {
     "data": {
      "text/plain": [
       "(40345, 2)"
      ]
     },
     "execution_count": 66,
     "metadata": {},
     "output_type": "execute_result"
    }
   ],
   "source": [
    "merged_df.shape"
   ]
  },
  {
   "cell_type": "code",
   "execution_count": 77,
   "id": "7363985f",
   "metadata": {},
   "outputs": [
    {
     "name": "stderr",
     "output_type": "stream",
     "text": [
      "[nltk_data] Downloading package stopwords to\n",
      "[nltk_data]     C:\\Users\\diwak\\AppData\\Roaming\\nltk_data...\n",
      "[nltk_data]   Package stopwords is already up-to-date!\n",
      "[nltk_data] Downloading package wordnet to\n",
      "[nltk_data]     C:\\Users\\diwak\\AppData\\Roaming\\nltk_data...\n",
      "[nltk_data]   Package wordnet is already up-to-date!\n"
     ]
    }
   ],
   "source": [
    "import pandas as pd\n",
    "import re\n",
    "import nltk\n",
    "import pickle\n",
    "from nltk.corpus import stopwords\n",
    "from nltk.stem import WordNetLemmatizer\n",
    "from sklearn.feature_extraction.text import CountVectorizer\n",
    "\n",
    "# Ensure NLTK resources are downloaded\n",
    "nltk.download('stopwords')\n",
    "nltk.download('wordnet')\n",
    "\n",
    "# Initialize the lemmatizer and stop words\n",
    "lemmatizer = WordNetLemmatizer()\n",
    "stop_words = set(stopwords.words('english'))\n",
    "\n",
    "# Text preprocessing function\n",
    "def preprocess_text(text):\n",
    "    if isinstance(text, str):\n",
    "        text = text.lower()\n",
    "        text = re.sub(r'[^a-zA-Z0-9\\s|]', '', text)\n",
    "        text = ' '.join(\n",
    "            lemmatizer.lemmatize(word) for word in text.split() if word not in stop_words\n",
    "        )\n",
    "    else:\n",
    "        text = ''\n",
    "    return text\n",
    "\n",
    "merged_df['Preprocessed_Description'] = merged_df['Description'].apply(preprocess_text)\n",
    "merged_df['Preprocessed_Name'] = merged_df['Name'].apply(preprocess_text)\n",
    "merged_df['Preprocessed_Text'] = merged_df['Preprocessed_Name'] + ' ' + merged_df['Preprocessed_Description']\n",
    "\n",
    "# Create Count Vectorizer\n",
    "vectorizer = CountVectorizer()\n",
    "bow_matrix = vectorizer.fit_transform(merged_df['Preprocessed_Text'])\n",
    "\n",
    "# Save the model and vectorizer using pickle\n",
    "with open('bow_vectorizer.pkl', 'wb') as f:\n",
    "    pickle.dump(vectorizer, f)\n",
    "    \n",
    "with open('bow_matrix.pkl', 'wb') as f:\n",
    "    pickle.dump(bow_matrix, f)\n",
    "    \n",
    "with open('merged_df.pkl', 'wb') as f:\n",
    "    pickle.dump(merged_df, f)\n"
   ]
  },
  {
   "cell_type": "code",
   "execution_count": 78,
   "id": "47f51f6e",
   "metadata": {},
   "outputs": [
    {
     "ename": "ValueError",
     "evalue": "Incompatible dimension for X and Y matrices: X.shape[1] == 79852 while Y.shape[1] == 79895",
     "output_type": "error",
     "traceback": [
      "\u001b[1;31m---------------------------------------------------------------------------\u001b[0m",
      "\u001b[1;31mValueError\u001b[0m                                Traceback (most recent call last)",
      "Cell \u001b[1;32mIn[78], line 3\u001b[0m\n\u001b[0;32m      1\u001b[0m \u001b[38;5;66;03m# Example usage\u001b[39;00m\n\u001b[0;32m      2\u001b[0m input_text \u001b[38;5;241m=\u001b[39m \u001b[38;5;124m\"\u001b[39m\u001b[38;5;124mharry potter\u001b[39m\u001b[38;5;124m\"\u001b[39m\n\u001b[1;32m----> 3\u001b[0m recommendations \u001b[38;5;241m=\u001b[39m recommend_similar(input_text)\n\u001b[0;32m      5\u001b[0m \u001b[38;5;28mprint\u001b[39m(\u001b[38;5;124mf\u001b[39m\u001b[38;5;124m\"\u001b[39m\u001b[38;5;124mRecommended movies based on \u001b[39m\u001b[38;5;124m'\u001b[39m\u001b[38;5;132;01m{\u001b[39;00minput_text\u001b[38;5;132;01m}\u001b[39;00m\u001b[38;5;124m'\u001b[39m\u001b[38;5;124m:\u001b[39m\u001b[38;5;124m\"\u001b[39m)\n\u001b[0;32m      6\u001b[0m \u001b[38;5;28;01mfor\u001b[39;00m movie \u001b[38;5;129;01min\u001b[39;00m recommendations:\n",
      "Cell \u001b[1;32mIn[67], line 70\u001b[0m, in \u001b[0;36mrecommend_similar\u001b[1;34m(input_text, merged_df, bow_matrix, k)\u001b[0m\n\u001b[0;32m     67\u001b[0m input_vec \u001b[38;5;241m=\u001b[39m vectorizer\u001b[38;5;241m.\u001b[39mtransform([processed_input])\n\u001b[0;32m     69\u001b[0m \u001b[38;5;66;03m# Calculate cosine similarity between the input vector and all movie descriptions\u001b[39;00m\n\u001b[1;32m---> 70\u001b[0m cosine_similarities \u001b[38;5;241m=\u001b[39m cosine_similarity(input_vec, bow_matrix)\n\u001b[0;32m     72\u001b[0m \u001b[38;5;66;03m# Sort movies by similarity (descending order) and get top k results\u001b[39;00m\n\u001b[0;32m     73\u001b[0m similar_indices \u001b[38;5;241m=\u001b[39m cosine_similarities\u001b[38;5;241m.\u001b[39margsort()[\u001b[38;5;241m0\u001b[39m, :(\u001b[38;5;241m-\u001b[39mk \u001b[38;5;241m-\u001b[39m \u001b[38;5;241m1\u001b[39m):\u001b[38;5;241m-\u001b[39m\u001b[38;5;241m1\u001b[39m]\n",
      "File \u001b[1;32m~\\anaconda3\\Lib\\site-packages\\sklearn\\utils\\_param_validation.py:211\u001b[0m, in \u001b[0;36mvalidate_params.<locals>.decorator.<locals>.wrapper\u001b[1;34m(*args, **kwargs)\u001b[0m\n\u001b[0;32m    205\u001b[0m \u001b[38;5;28;01mtry\u001b[39;00m:\n\u001b[0;32m    206\u001b[0m     \u001b[38;5;28;01mwith\u001b[39;00m config_context(\n\u001b[0;32m    207\u001b[0m         skip_parameter_validation\u001b[38;5;241m=\u001b[39m(\n\u001b[0;32m    208\u001b[0m             prefer_skip_nested_validation \u001b[38;5;129;01mor\u001b[39;00m global_skip_validation\n\u001b[0;32m    209\u001b[0m         )\n\u001b[0;32m    210\u001b[0m     ):\n\u001b[1;32m--> 211\u001b[0m         \u001b[38;5;28;01mreturn\u001b[39;00m func(\u001b[38;5;241m*\u001b[39margs, \u001b[38;5;241m*\u001b[39m\u001b[38;5;241m*\u001b[39mkwargs)\n\u001b[0;32m    212\u001b[0m \u001b[38;5;28;01mexcept\u001b[39;00m InvalidParameterError \u001b[38;5;28;01mas\u001b[39;00m e:\n\u001b[0;32m    213\u001b[0m     \u001b[38;5;66;03m# When the function is just a wrapper around an estimator, we allow\u001b[39;00m\n\u001b[0;32m    214\u001b[0m     \u001b[38;5;66;03m# the function to delegate validation to the estimator, but we replace\u001b[39;00m\n\u001b[0;32m    215\u001b[0m     \u001b[38;5;66;03m# the name of the estimator by the name of the function in the error\u001b[39;00m\n\u001b[0;32m    216\u001b[0m     \u001b[38;5;66;03m# message to avoid confusion.\u001b[39;00m\n\u001b[0;32m    217\u001b[0m     msg \u001b[38;5;241m=\u001b[39m re\u001b[38;5;241m.\u001b[39msub(\n\u001b[0;32m    218\u001b[0m         \u001b[38;5;124mr\u001b[39m\u001b[38;5;124m\"\u001b[39m\u001b[38;5;124mparameter of \u001b[39m\u001b[38;5;124m\\\u001b[39m\u001b[38;5;124mw+ must be\u001b[39m\u001b[38;5;124m\"\u001b[39m,\n\u001b[0;32m    219\u001b[0m         \u001b[38;5;124mf\u001b[39m\u001b[38;5;124m\"\u001b[39m\u001b[38;5;124mparameter of \u001b[39m\u001b[38;5;132;01m{\u001b[39;00mfunc\u001b[38;5;241m.\u001b[39m\u001b[38;5;18m__qualname__\u001b[39m\u001b[38;5;132;01m}\u001b[39;00m\u001b[38;5;124m must be\u001b[39m\u001b[38;5;124m\"\u001b[39m,\n\u001b[0;32m    220\u001b[0m         \u001b[38;5;28mstr\u001b[39m(e),\n\u001b[0;32m    221\u001b[0m     )\n",
      "File \u001b[1;32m~\\anaconda3\\Lib\\site-packages\\sklearn\\metrics\\pairwise.py:1577\u001b[0m, in \u001b[0;36mcosine_similarity\u001b[1;34m(X, Y, dense_output)\u001b[0m\n\u001b[0;32m   1542\u001b[0m \u001b[38;5;250m\u001b[39m\u001b[38;5;124;03m\"\"\"Compute cosine similarity between samples in X and Y.\u001b[39;00m\n\u001b[0;32m   1543\u001b[0m \n\u001b[0;32m   1544\u001b[0m \u001b[38;5;124;03mCosine similarity, or the cosine kernel, computes similarity as the\u001b[39;00m\n\u001b[1;32m   (...)\u001b[0m\n\u001b[0;32m   1573\u001b[0m \u001b[38;5;124;03m    Returns the cosine similarity between samples in X and Y.\u001b[39;00m\n\u001b[0;32m   1574\u001b[0m \u001b[38;5;124;03m\"\"\"\u001b[39;00m\n\u001b[0;32m   1575\u001b[0m \u001b[38;5;66;03m# to avoid recursive import\u001b[39;00m\n\u001b[1;32m-> 1577\u001b[0m X, Y \u001b[38;5;241m=\u001b[39m check_pairwise_arrays(X, Y)\n\u001b[0;32m   1579\u001b[0m X_normalized \u001b[38;5;241m=\u001b[39m normalize(X, copy\u001b[38;5;241m=\u001b[39m\u001b[38;5;28;01mTrue\u001b[39;00m)\n\u001b[0;32m   1580\u001b[0m \u001b[38;5;28;01mif\u001b[39;00m X \u001b[38;5;129;01mis\u001b[39;00m Y:\n",
      "File \u001b[1;32m~\\anaconda3\\Lib\\site-packages\\sklearn\\metrics\\pairwise.py:190\u001b[0m, in \u001b[0;36mcheck_pairwise_arrays\u001b[1;34m(X, Y, precomputed, dtype, accept_sparse, force_all_finite, copy)\u001b[0m\n\u001b[0;32m    184\u001b[0m         \u001b[38;5;28;01mraise\u001b[39;00m \u001b[38;5;167;01mValueError\u001b[39;00m(\n\u001b[0;32m    185\u001b[0m             \u001b[38;5;124m\"\u001b[39m\u001b[38;5;124mPrecomputed metric requires shape \u001b[39m\u001b[38;5;124m\"\u001b[39m\n\u001b[0;32m    186\u001b[0m             \u001b[38;5;124m\"\u001b[39m\u001b[38;5;124m(n_queries, n_indexed). Got (\u001b[39m\u001b[38;5;132;01m%d\u001b[39;00m\u001b[38;5;124m, \u001b[39m\u001b[38;5;132;01m%d\u001b[39;00m\u001b[38;5;124m) \u001b[39m\u001b[38;5;124m\"\u001b[39m\n\u001b[0;32m    187\u001b[0m             \u001b[38;5;124m\"\u001b[39m\u001b[38;5;124mfor \u001b[39m\u001b[38;5;132;01m%d\u001b[39;00m\u001b[38;5;124m indexed.\u001b[39m\u001b[38;5;124m\"\u001b[39m \u001b[38;5;241m%\u001b[39m (X\u001b[38;5;241m.\u001b[39mshape[\u001b[38;5;241m0\u001b[39m], X\u001b[38;5;241m.\u001b[39mshape[\u001b[38;5;241m1\u001b[39m], Y\u001b[38;5;241m.\u001b[39mshape[\u001b[38;5;241m0\u001b[39m])\n\u001b[0;32m    188\u001b[0m         )\n\u001b[0;32m    189\u001b[0m \u001b[38;5;28;01melif\u001b[39;00m X\u001b[38;5;241m.\u001b[39mshape[\u001b[38;5;241m1\u001b[39m] \u001b[38;5;241m!=\u001b[39m Y\u001b[38;5;241m.\u001b[39mshape[\u001b[38;5;241m1\u001b[39m]:\n\u001b[1;32m--> 190\u001b[0m     \u001b[38;5;28;01mraise\u001b[39;00m \u001b[38;5;167;01mValueError\u001b[39;00m(\n\u001b[0;32m    191\u001b[0m         \u001b[38;5;124m\"\u001b[39m\u001b[38;5;124mIncompatible dimension for X and Y matrices: \u001b[39m\u001b[38;5;124m\"\u001b[39m\n\u001b[0;32m    192\u001b[0m         \u001b[38;5;124m\"\u001b[39m\u001b[38;5;124mX.shape[1] == \u001b[39m\u001b[38;5;132;01m%d\u001b[39;00m\u001b[38;5;124m while Y.shape[1] == \u001b[39m\u001b[38;5;132;01m%d\u001b[39;00m\u001b[38;5;124m\"\u001b[39m \u001b[38;5;241m%\u001b[39m (X\u001b[38;5;241m.\u001b[39mshape[\u001b[38;5;241m1\u001b[39m], Y\u001b[38;5;241m.\u001b[39mshape[\u001b[38;5;241m1\u001b[39m])\n\u001b[0;32m    193\u001b[0m     )\n\u001b[0;32m    195\u001b[0m \u001b[38;5;28;01mreturn\u001b[39;00m X, Y\n",
      "\u001b[1;31mValueError\u001b[0m: Incompatible dimension for X and Y matrices: X.shape[1] == 79852 while Y.shape[1] == 79895"
     ]
    }
   ],
   "source": [
    "# Example usage\n",
    "input_text = \"harry potter\"\n",
    "recommendations = recommend_similar(input_text)\n",
    "\n",
    "print(f\"Recommended movies based on '{input_text}':\")\n",
    "for movie in recommendations:\n",
    "    print(movie)"
   ]
  },
  {
   "cell_type": "code",
   "execution_count": 69,
   "id": "8939b207",
   "metadata": {},
   "outputs": [
    {
     "name": "stdout",
     "output_type": "stream",
     "text": [
      "DataFrame saved to AllinOne.csv\n"
     ]
    }
   ],
   "source": [
    "csv_file_path = 'AllinOne.csv'\n",
    "merged_df.to_csv(csv_file_path, index=False)\n",
    "\n",
    "print(f\"DataFrame saved to {csv_file_path}\")"
   ]
  },
  {
   "cell_type": "code",
   "execution_count": 76,
   "id": "9597bb98",
   "metadata": {},
   "outputs": [],
   "source": []
  },
  {
   "cell_type": "code",
   "execution_count": null,
   "id": "8c46d807",
   "metadata": {},
   "outputs": [],
   "source": []
  }
 ],
 "metadata": {
  "kernelspec": {
   "display_name": "Python 3 (ipykernel)",
   "language": "python",
   "name": "python3"
  },
  "language_info": {
   "codemirror_mode": {
    "name": "ipython",
    "version": 3
   },
   "file_extension": ".py",
   "mimetype": "text/x-python",
   "name": "python",
   "nbconvert_exporter": "python",
   "pygments_lexer": "ipython3",
   "version": "3.11.5"
  }
 },
 "nbformat": 4,
 "nbformat_minor": 5
}
